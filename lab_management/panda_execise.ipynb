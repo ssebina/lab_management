{
 "cells": [
  {
   "cell_type": "code",
   "execution_count": 1,
   "metadata": {},
   "outputs": [],
   "source": [
    "import pandas as pd"
   ]
  },
  {
   "cell_type": "code",
   "execution_count": 3,
   "metadata": {},
   "outputs": [],
   "source": [
    "url = \"http://apmonitor.com/che263/uploads/Main/tclab.txt\"\n",
    "x = pd.read_csv(url)"
   ]
  },
  {
   "cell_type": "code",
   "execution_count": 4,
   "metadata": {},
   "outputs": [
    {
     "name": "stdout",
     "output_type": "stream",
     "text": [
      "   Time (sec)   Heater 1  Heater 2  Temperature 1  Temperature 2\n",
      "0    0.000000  70.204573       0.0          21.09          19.71\n",
      "1    3.002566  70.204573       0.0          21.06          19.74\n",
      "2    6.051028  70.204573       0.0          21.00          19.74\n",
      "3    9.053199  70.204573       0.0          21.16          19.74\n",
      "4   12.052579  70.204573       0.0          21.19          19.74\n"
     ]
    }
   ],
   "source": [
    "print(x.head())"
   ]
  },
  {
   "cell_type": "code",
   "execution_count": 5,
   "metadata": {},
   "outputs": [
    {
     "name": "stdout",
     "output_type": "stream",
     "text": [
      "       Time (sec)    Heater 1    Heater 2  Temperature 1  Temperature 2\n",
      "count  201.000000  201.000000  201.000000     201.000000     201.000000\n",
      "mean   300.309241   59.785477   27.056456      45.492637      30.445224\n",
      "std    174.681315   36.716888   31.313092       8.618061       6.704408\n",
      "min      0.000000    0.912421    0.000000      21.000000      19.640000\n",
      "25%    150.143891   29.646147    0.000000      45.750000      22.770000\n",
      "50%    300.224662   71.736706   14.628027      48.580000      32.530000\n",
      "75%    450.506598   96.130497   52.622061      50.710000      36.430000\n",
      "max    600.572713   96.827185   76.807626      53.960000      38.690000\n"
     ]
    }
   ],
   "source": [
    "s = x.describe()\n",
    "print(s)"
   ]
  },
  {
   "cell_type": "code",
   "execution_count": 7,
   "metadata": {},
   "outputs": [
    {
     "name": "stdout",
     "output_type": "stream",
     "text": [
      "None\n"
     ]
    }
   ],
   "source": [
    "my_file = s.to_excel('test.xlsx')\n",
    "\n",
    "print(my_file)"
   ]
  },
  {
   "cell_type": "code",
   "execution_count": 14,
   "metadata": {},
   "outputs": [
    {
     "name": "stdout",
     "output_type": "stream",
     "text": [
      "Done Successfully\n"
     ]
    }
   ],
   "source": [
    "data1 =  [\"90129991\" ,\"MITT1_002\" ,\"Mityana Test2\",\"056056002\",\"0\",\"15 days ago\",\"09/19/2019\"]\n",
    "data2 = [ \"90179137\",\"MITT1_003\",\"Mityana Test3\",\"056056003\",\"0\",\"15 days ago\",\"09/19/2019\" ]\n",
    "\n",
    "formated_data = [data2,data2]\n",
    "\n",
    "pd_data = pd.DataFrame(\n",
    "    formated_data, \n",
    "    columns=[\"RFID\", \"TAG_NO\", \"CARD_OWNER\", \"SHORT_ID\", \"BALANCE\", \"UPDATED_TIME\", \"DAY\"])\n",
    "\n",
    "pd_data.index +=1  # preventing indexing from zero\n",
    "\n",
    "pd_data.to_excel(\"generated_files/formated_data.xlsx\")\n",
    "print(\"Done Successfully\")"
   ]
  },
  {
   "cell_type": "code",
   "execution_count": 10,
   "metadata": {},
   "outputs": [],
   "source": [
    "from flask import send_from_directory"
   ]
  },
  {
   "cell_type": "code",
   "execution_count": 28,
   "metadata": {
    "scrolled": true
   },
   "outputs": [
    {
     "name": "stdout",
     "output_type": "stream",
     "text": [
      "HIM\n"
     ]
    }
   ],
   "source": [
    "ken = \"kenneth.bob.him\"\n",
    "print(ken.rsplit('.',1)[1].upper())\n"
   ]
  },
  {
   "cell_type": "code",
   "execution_count": 29,
   "metadata": {
    "scrolled": true
   },
   "outputs": [
    {
     "name": "stdout",
     "output_type": "stream",
     "text": [
      "       RFID     TAG_NO     CARD_OWNER   SHORT_ID BALANCE UPDATED_TIME  \\\n",
      "0  90129991  MITT1_002  Mityana Test2  056056002       0  15 days ago   \n",
      "1  90179137  MITT1_003  Mityana Test3  056056003       0  15 days ago   \n",
      "\n",
      "          DAY  \n",
      "0  09/19/2019  \n",
      "1  09/19/2019  \n"
     ]
    }
   ],
   "source": [
    "print(pd_data.head())"
   ]
  },
  {
   "cell_type": "code",
   "execution_count": 15,
   "metadata": {
    "scrolled": true
   },
   "outputs": [
    {
     "name": "stdout",
     "output_type": "stream",
     "text": [
      "done boss\n"
     ]
    }
   ],
   "source": [
    "from flask_cors import CORS\n",
    "print(\"done boss\")"
   ]
  },
  {
   "cell_type": "code",
   "execution_count": 11,
   "metadata": {},
   "outputs": [
    {
     "data": {
      "text/html": [
       "<div>\n",
       "<style scoped>\n",
       "    .dataframe tbody tr th:only-of-type {\n",
       "        vertical-align: middle;\n",
       "    }\n",
       "\n",
       "    .dataframe tbody tr th {\n",
       "        vertical-align: top;\n",
       "    }\n",
       "\n",
       "    .dataframe thead th {\n",
       "        text-align: right;\n",
       "    }\n",
       "</style>\n",
       "<table border=\"1\" class=\"dataframe\">\n",
       "  <thead>\n",
       "    <tr style=\"text-align: right;\">\n",
       "      <th></th>\n",
       "      <th>BALANCE</th>\n",
       "      <th>CARD_OWNER</th>\n",
       "      <th>DAY</th>\n",
       "      <th>RFID</th>\n",
       "      <th>SHORT_ID</th>\n",
       "      <th>TAG_NO</th>\n",
       "      <th>UPDATED_TIME</th>\n",
       "      <th>Unnamed: 0</th>\n",
       "    </tr>\n",
       "  </thead>\n",
       "  <tbody>\n",
       "    <tr>\n",
       "      <td>0</td>\n",
       "      <td>0</td>\n",
       "      <td>Mityana Test3</td>\n",
       "      <td>09/19/2019</td>\n",
       "      <td>90179137</td>\n",
       "      <td>56056003</td>\n",
       "      <td>MITT1_003</td>\n",
       "      <td>15 days ago</td>\n",
       "      <td>1.0</td>\n",
       "    </tr>\n",
       "    <tr>\n",
       "      <td>1</td>\n",
       "      <td>0</td>\n",
       "      <td>Mityana Test3</td>\n",
       "      <td>09/19/2019</td>\n",
       "      <td>90179137</td>\n",
       "      <td>56056003</td>\n",
       "      <td>MITT1_003</td>\n",
       "      <td>15 days ago</td>\n",
       "      <td>2.0</td>\n",
       "    </tr>\n",
       "    <tr>\n",
       "      <td>0</td>\n",
       "      <td>0</td>\n",
       "      <td>Appending</td>\n",
       "      <td>09/19/2019</td>\n",
       "      <td>test</td>\n",
       "      <td>Data</td>\n",
       "      <td>for</td>\n",
       "      <td>15 days ago</td>\n",
       "      <td>NaN</td>\n",
       "    </tr>\n",
       "  </tbody>\n",
       "</table>\n",
       "</div>"
      ],
      "text/plain": [
       "  BALANCE     CARD_OWNER         DAY      RFID  SHORT_ID     TAG_NO  \\\n",
       "0       0  Mityana Test3  09/19/2019  90179137  56056003  MITT1_003   \n",
       "1       0  Mityana Test3  09/19/2019  90179137  56056003  MITT1_003   \n",
       "0       0      Appending  09/19/2019      test      Data        for   \n",
       "\n",
       "  UPDATED_TIME  Unnamed: 0  \n",
       "0  15 days ago         1.0  \n",
       "1  15 days ago         2.0  \n",
       "0  15 days ago         NaN  "
      ]
     },
     "execution_count": 11,
     "metadata": {},
     "output_type": "execute_result"
    }
   ],
   "source": [
    "import pandas as pd\n",
    "\n",
    "df = pd.read_excel(\"generated_files/formated_data.xlsx\", \"Sheet1\")\n",
    "\n",
    "\n",
    "formated_data = [ \"test\",\"for\",\"Appending\",\"Data\",\"0\",\"15 days ago\",\"09/19/2019\" ]\n",
    "\n",
    "pd_new_data = pd.DataFrame(\n",
    "    [formated_data], \n",
    "    columns=[\"RFID\", \"TAG_NO\", \"CARD_OWNER\", \"SHORT_ID\", \"BALANCE\", \"UPDATED_TIME\", \"DAY\"])\n",
    "\n",
    "df = df.append(pd_new_data)\n",
    "\n",
    "df"
   ]
  },
  {
   "cell_type": "code",
   "execution_count": null,
   "metadata": {},
   "outputs": [],
   "source": [
    "import pandas as pd\n",
    "\n",
    "data = pd.read_excel(\"MUBENDE_RFID.xlsx\", sheet_name=\"Sheet1\")\n",
    "\n",
    "data.to_dict(orient='records')\n"
   ]
  },
  {
   "cell_type": "code",
   "execution_count": null,
   "metadata": {},
   "outputs": [],
   "source": []
  }
 ],
 "metadata": {
  "kernelspec": {
   "display_name": "Python 3",
   "language": "python",
   "name": "python3"
  },
  "language_info": {
   "codemirror_mode": {
    "name": "ipython",
    "version": 3
   },
   "file_extension": ".py",
   "mimetype": "text/x-python",
   "name": "python",
   "nbconvert_exporter": "python",
   "pygments_lexer": "ipython3",
   "version": "3.6.8"
  }
 },
 "nbformat": 4,
 "nbformat_minor": 2
}
