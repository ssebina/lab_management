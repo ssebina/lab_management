{
 "cells": [
  {
   "cell_type": "code",
   "execution_count": 1,
   "metadata": {
    "scrolled": false
   },
   "outputs": [
    {
     "name": "stderr",
     "output_type": "stream",
     "text": [
      "/usr/local/lib/python3.6/dist-packages/flask_sqlalchemy/__init__.py:794: FSADeprecationWarning: SQLALCHEMY_TRACK_MODIFICATIONS adds significant overhead and will be disabled by default in the future.  Set it to True or False to suppress this warning.\n",
      "  'SQLALCHEMY_TRACK_MODIFICATIONS adds significant overhead and '\n"
     ]
    }
   ],
   "source": [
    "from app import db\n",
    "from app.models import *\n"
   ]
  },
  {
   "cell_type": "code",
   "execution_count": 8,
   "metadata": {},
   "outputs": [],
   "source": [
    "org =  Organisation\n",
    "org_1 = org.query.all()[0]\n",
    "org_1.name = \"JAICA\"\n",
    "org_2 = org(name='WHAVE')\n",
    "db.session.add(org_2)\n",
    "db.session.add(org_1)\n",
    "db.session.commit()\n",
    "#print(org_1.name)"
   ]
  },
  {
   "cell_type": "code",
   "execution_count": 22,
   "metadata": {},
   "outputs": [],
   "source": [
    "usr = User(user_name=\"jaica\", password=\"jaica123\", first_name=\"jaica\")\n",
    "db.session.add(usr)\n",
    "db.session.commit()\n"
   ]
  },
  {
   "cell_type": "code",
   "execution_count": 3,
   "metadata": {
    "scrolled": true
   },
   "outputs": [
    {
     "name": "stdout",
     "output_type": "stream",
     "text": [
      "ORG Name --> WHAVE\n",
      "User Name --> adam\n"
     ]
    }
   ],
   "source": [
    "usr = User.query.get(2)\n",
    "print(\"ORG Name --> {}\".format(usr.org.name))\n",
    "print(\"User Name --> {}\".format(usr.user_name))\n"
   ]
  },
  {
   "cell_type": "code",
   "execution_count": 4,
   "metadata": {},
   "outputs": [
    {
     "data": {
      "text/plain": [
       "False"
      ]
     },
     "execution_count": 4,
     "metadata": {},
     "output_type": "execute_result"
    }
   ],
   "source": [
    "usr.is_sunda_admin()"
   ]
  },
  {
   "cell_type": "code",
   "execution_count": 5,
   "metadata": {},
   "outputs": [
    {
     "data": {
      "text/plain": [
       "True"
      ]
     },
     "execution_count": 5,
     "metadata": {},
     "output_type": "execute_result"
    }
   ],
   "source": [
    "usr.has_permissions(Permission.ORG_ATTENDANT)"
   ]
  },
  {
   "cell_type": "code",
   "execution_count": 9,
   "metadata": {
    "scrolled": false
   },
   "outputs": [
    {
     "name": "stdout",
     "output_type": "stream",
     "text": [
      "done ---> [ ORG_ADMIN ]\n",
      "done ---> [ SUNDA_ADMIN ]\n",
      "done ---> [ ORG_ATTENDANT ]\n",
      "Done adding All\n"
     ]
    }
   ],
   "source": [
    "Role.insert_roles()"
   ]
  },
  {
   "cell_type": "code",
   "execution_count": 31,
   "metadata": {
    "scrolled": true
   },
   "outputs": [],
   "source": [
    "fetches = Fetches.query.filter(Fetches.volume_taken > 0).order_by(Fetches.id.desc()).paginate(1,500,False).items"
   ]
  },
  {
   "cell_type": "code",
   "execution_count": 33,
   "metadata": {
    "scrolled": true
   },
   "outputs": [],
   "source": [
    "fetches = Fetches.query.filter(Fetches.volume_taken > 0).order_by(Fetches.id.desc()).paginate(1,5,False).items"
   ]
  },
  {
   "cell_type": "code",
   "execution_count": 41,
   "metadata": {
    "scrolled": true
   },
   "outputs": [],
   "source": [
    "fetches = Fetches.query.filter().paginate(1,500,False).items"
   ]
  },
  {
   "cell_type": "code",
   "execution_count": 57,
   "metadata": {
    "scrolled": true
   },
   "outputs": [
    {
     "name": "stdout",
     "output_type": "stream",
     "text": [
      "3\n",
      "Master Card\n",
      "Master Card\n",
      "TEST-CARD USER\n"
     ]
    }
   ],
   "source": [
    "fetch_list = []\n",
    "\n",
    "for f in fetches:\n",
    "    fetch_list.append(f)\n",
    "   # print(str(f.card_user.name) +\" --> \" + str(f.volume_taken))\n",
    "\n",
    "# fetch_list = list(reversed(fetch_list))\n",
    "\n",
    "fetch_list = fetch_list[::-1] # this is the same waty as reversing the order of a python list\n",
    "\n",
    "fetch_list = fetch_list[0:3]\n",
    "\n",
    "print(len(fetch_list))\n",
    "\n",
    "for item in fetch_list:\n",
    "    print(item.card_user.name)\n",
    "    \n",
    "    \n",
    "    "
   ]
  },
  {
   "cell_type": "code",
   "execution_count": 49,
   "metadata": {},
   "outputs": [
    {
     "name": "stdout",
     "output_type": "stream",
     "text": [
      "83.97\n"
     ]
    }
   ],
   "source": [
    "fetch_count = Fetches.query.filter().count()\n",
    "print (fetch_count/500)"
   ]
  },
  {
   "cell_type": "code",
   "execution_count": 51,
   "metadata": {},
   "outputs": [
    {
     "name": "stdout",
     "output_type": "stream",
     "text": [
      "78\n"
     ]
    }
   ],
   "source": [
    "kk = int(fetch_count/500)\n",
    "print(kk-5)"
   ]
  },
  {
   "cell_type": "code",
   "execution_count": 12,
   "metadata": {},
   "outputs": [
    {
     "name": "stdout",
     "output_type": "stream",
     "text": [
      "done ---> [ ORG_ADMIN ]\n",
      "done ---> [ SUNDA_ADMIN ]\n",
      "done ---> [ ORG_ATTENDANT ]\n",
      "Done adding All\n"
     ]
    }
   ],
   "source": [
    "Role.insert_roles()"
   ]
  },
  {
   "cell_type": "code",
   "execution_count": 10,
   "metadata": {},
   "outputs": [
    {
     "name": "stdout",
     "output_type": "stream",
     "text": [
      "Admin\n"
     ]
    }
   ],
   "source": [
    "r = Role.query.get(1)\n",
    "print(r.name)"
   ]
  },
  {
   "cell_type": "code",
   "execution_count": 3,
   "metadata": {},
   "outputs": [
    {
     "name": "stdout",
     "output_type": "stream",
     "text": [
      "Updating Service Access --> LLP_SERVICE \n",
      "Updating Service Access --> BASIC_PLAN \n",
      "Updating Service Access --> BASIC_AND_LLP \n"
     ]
    }
   ],
   "source": [
    "org_service  = OrganisationService()\n",
    "org_service.insert_service_access()"
   ]
  },
  {
   "cell_type": "code",
   "execution_count": 5,
   "metadata": {},
   "outputs": [
    {
     "name": "stdout",
     "output_type": "stream",
     "text": [
      "WHAVE\n"
     ]
    }
   ],
   "source": [
    "org = Organisation.query.get(2)\n",
    "print (org.name)"
   ]
  },
  {
   "cell_type": "code",
   "execution_count": 6,
   "metadata": {},
   "outputs": [
    {
     "data": {
      "text/plain": [
       "True"
      ]
     },
     "execution_count": 6,
     "metadata": {},
     "output_type": "execute_result"
    }
   ],
   "source": [
    "org.has_llp()"
   ]
  },
  {
   "cell_type": "code",
   "execution_count": 7,
   "metadata": {},
   "outputs": [
    {
     "data": {
      "text/plain": [
       "False"
      ]
     },
     "execution_count": 7,
     "metadata": {},
     "output_type": "execute_result"
    }
   ],
   "source": [
    "org.has_basic_plan()"
   ]
  },
  {
   "cell_type": "code",
   "execution_count": 9,
   "metadata": {},
   "outputs": [
    {
     "name": "stdout",
     "output_type": "stream",
     "text": [
      "[]\n"
     ]
    }
   ],
   "source": [
    "## processing Batch data for basic plan or standard plan\n",
    "\n",
    "_rfid_no = 90143104\n",
    "\n",
    "card = RFID.query.filter_by(rfid_no=_rfid_no).first()\n",
    "\n",
    "batch_list = []\n",
    "\n",
    "batch = db.session.query(\n",
    "                            MemorySlot.index ,\n",
    "                            VolumeUpdates.amount,\n",
    "                            db.func.max(VolumeUpdates.id),\n",
    "                            RFID.rfid_no\n",
    "                        )\\\n",
    "                        .join(CardUser, CardUser.id == MemorySlot.card_user_id)\\\n",
    "                        .join(RFID, RFID.user_id == CardUser.id)\\\n",
    "                        .join(Borehole, Borehole.id == RFID.borehole_id)\\\n",
    "                        .join(VolumeUpdates,VolumeUpdates.card_user_id == CardUser.id )\\\n",
    "                        .group_by(CardUser.id)\\\n",
    "                        .filter(\n",
    "                                Borehole.id == 3,\n",
    "                                VolumeUpdates.bore_updated == False,\n",
    "                                )\\\n",
    "                        .all()\n",
    "\n",
    "\n",
    "for data in batch:\n",
    "    cv_batch_item = {'s':data[0],'u':data[1],'rfid':data[3]} # s---> slot & c ---> Cumulative value\n",
    "    batch_list.append(cv_batch_item)\n",
    "#     print(cv_batch_item)\n",
    "    \n",
    "print(batch_list)\n"
   ]
  },
  {
   "cell_type": "code",
   "execution_count": 35,
   "metadata": {},
   "outputs": [
    {
     "name": "stdout",
     "output_type": "stream",
     "text": [
      "[]\n"
     ]
    }
   ],
   "source": [
    "basic_batch_list = []\n",
    "\n",
    "basic_batch = VolumeUpdates.query\\\n",
    "                                .join(CardUser, VolumeUpdates.card_user_id == CardUser.id )\\\n",
    "                                .join(RFID, RFID.user_id == CardUser.id)\\\n",
    "                                .join(Borehole, Borehole.id == RFID.borehole_id)\\\n",
    "                                .filter(\n",
    "                                    Borehole.id == 3,\n",
    "                                    VolumeUpdates.bore_updated == False,\n",
    "                                )\n",
    "\n",
    "for data in basic_batch:\n",
    "    \n",
    "     # s---> slot & u ---> updated value\n",
    "        \n",
    "    update_batch_item = {\n",
    "                         's':data.card_user.memory_slot[0].index,\n",
    "                         'u':data.amount,\n",
    "                        } \n",
    "\n",
    "    data.bore_updated = not data.bore_updated           \n",
    "    basic_batch_list.append(update_batch_item)\n",
    "\n",
    "\n",
    "db.session.commit()\n",
    "    \n",
    "print(basic_batch_list)"
   ]
  },
  {
   "cell_type": "code",
   "execution_count": 12,
   "metadata": {},
   "outputs": [
    {
     "name": "stdout",
     "output_type": "stream",
     "text": [
      "<class 'flask_sqlalchemy.BaseQuery'>\n"
     ]
    }
   ],
   "source": [
    "credit_batch_list = [] \n",
    "\n",
    "credit_updates = CreditUpdate.query\\\n",
    "                                    .join(LLPUserAccount, LLPUserAccount.id ==  CreditUpdate.llp_acc_id)\\\n",
    "                                    .join(CardUser, CardUser.id == LLPUserAccount.card_user_id)\\\n",
    "                                    .join(RFID, RFID.user_id == CardUser.id)\\\n",
    "                                    .join(Borehole, Borehole.id == RFID.borehole_id)\\\n",
    "                                    .filter(\n",
    "                                        CreditUpdate.bore_update == 0,\\\n",
    "                                        Borehole.id == card.borehole_id\n",
    "                                    )\n",
    "\n",
    "print(type(credit_updates))"
   ]
  },
  {
   "cell_type": "code",
   "execution_count": 2,
   "metadata": {},
   "outputs": [],
   "source": [
    "# SQLAlchemy JSON query Builder\n",
    "\n",
    "from sqlalchemy_json_querybuilder.querybuilder.search import Search"
   ]
  },
  {
   "cell_type": "code",
   "execution_count": 92,
   "metadata": {},
   "outputs": [
    {
     "name": "stdout",
     "output_type": "stream",
     "text": [
      "4\n"
     ]
    },
    {
     "data": {
      "text/plain": [
       "'Fred Mityana Test'"
      ]
     },
     "execution_count": 92,
     "metadata": {},
     "output_type": "execute_result"
    }
   ],
   "source": [
    "filter_by = []\n",
    "\n",
    "criteria_1 = {\n",
    "    'field_name':'CardUser.short_id',\n",
    "    'operator':'contains',\n",
    "    'field_value':\"001004\"\n",
    "}\n",
    "\n",
    "filter_by.append(criteria_1)\n",
    "\n",
    "\n",
    "order_by = ['-CardUser.id']\n",
    "\n",
    "results = Search(db.session,\n",
    "                 \"app.models\",\n",
    "                 (CardUser,),\n",
    "                 filter_by = filter_by,\n",
    "                 order_by=order_by,\n",
    "                 page=1, per_page=4).results\n",
    "\n",
    "print(results['count'])\n",
    "\n",
    "results['data'][0].name\n",
    "\n"
   ]
  },
  {
   "cell_type": "code",
   "execution_count": 18,
   "metadata": {},
   "outputs": [
    {
     "name": "stdout",
     "output_type": "stream",
     "text": [
      "5000\n"
     ]
    }
   ],
   "source": [
    "# payment criterias with date ranges\n",
    "\n",
    "_date_from = '2019-03-01'\n",
    "\n",
    "date_from = {\n",
    "    'field_name':'Payment.time_stamp',\n",
    "    'operator' :'gte',\n",
    "    'field_value': _date_from\n",
    "}\n",
    "\n",
    "date_to = {\n",
    "    'field_name':'Payment.time_stamp',\n",
    "    'operator':'lte',\n",
    "    'field_value':'2019-03-15'\n",
    "}\n",
    "\n",
    "short_id = {\n",
    "    'field_name':'Payment.narrative',\n",
    "    'operator':'eq',\n",
    "    'field_value':'056056002', \n",
    "}\n",
    "\n",
    "org_payments_criteria = {\n",
    "    \n",
    "    'field_name':'Organisation.id',\n",
    "    'field_value':1,\n",
    "    'operator':'eq'\n",
    "}\n",
    "\n",
    "filter_by = []\n",
    "\n",
    "# filter_by.append(date_from)\n",
    "# filter_by.append(date_to)\n",
    "# filter_by.append(short_id)\n",
    "\n",
    "filter_by.append(org_payments_criteria)\n",
    "\n",
    "\n",
    "\n",
    "\n",
    "\n",
    "order_by = ['-Payment.time_stamp']\n",
    "\n",
    "results = Search(db.session,\n",
    "                'app.models',\n",
    "                (Payment,),\n",
    "                filter_by =  filter_by,\n",
    "                order_by=order_by).results\n",
    "\n",
    "\n",
    "\n",
    "\n",
    "# results['count']\n",
    "print(results['data'][0].amount)\n",
    "\n"
   ]
  },
  {
   "cell_type": "code",
   "execution_count": 8,
   "metadata": {},
   "outputs": [
    {
     "name": "stdout",
     "output_type": "stream",
     "text": [
      "2\n"
     ]
    },
    {
     "data": {
      "text/plain": [
       "1000"
      ]
     },
     "execution_count": 8,
     "metadata": {},
     "output_type": "execute_result"
    }
   ],
   "source": [
    "org_payments_criteria = {\n",
    "    \n",
    "    'field_name':'Payment.card_user',\n",
    "    'operator':'has',\n",
    "    'field_value':{\n",
    "        \n",
    "        'field_name':'CardUser.rfid',\n",
    "        'operator':'any',\n",
    "        'field_value':{\n",
    "            \n",
    "            'field_name': 'RFID.borehole',\n",
    "            'operator':'has',\n",
    "            'field_value':{\n",
    "                \n",
    "                'field_name':'Borehole.org',\n",
    "                'operator':'has',\n",
    "                'field_value':{\n",
    "                    \n",
    "                    'field_name':'Organisation.id',\n",
    "                    'operator':'eq',\n",
    "                    'field_value':2\n",
    "                }\n",
    "            }\n",
    "        }\n",
    "    } \n",
    "    \n",
    "}\n",
    "\n",
    "\n",
    "# short_id = {\n",
    "#     'field_name':'Payment.narrative',\n",
    "#     'operator':'eq',\n",
    "#     'field_value':'056056002', \n",
    "# }\n",
    "\n",
    "\n",
    "payment_filter_by = []\n",
    "\n",
    "# payment_filter_by.append(date_from)\n",
    "# payment_filter_by.append(date_to)\n",
    "\n",
    "payment_filter_by.append(short_id)\n",
    "\n",
    "payment_filter_by.append(org_payments_criteria)\n",
    "\n",
    "order_by = ['-Payment.time_stamp']\n",
    "\n",
    "results = Search(db.session,\n",
    "                'app.models',\n",
    "                (Payment,),\n",
    "                filter_by =  payment_filter_by,\n",
    "                order_by=order_by).results\n",
    "\n",
    "\n",
    "print(results['count'])\n",
    "\n",
    "results['data'][1].amount"
   ]
  },
  {
   "cell_type": "code",
   "execution_count": null,
   "metadata": {},
   "outputs": [],
   "source": []
  }
 ],
 "metadata": {
  "kernelspec": {
   "display_name": "Python 3",
   "language": "python",
   "name": "python3"
  },
  "language_info": {
   "codemirror_mode": {
    "name": "ipython",
    "version": 3
   },
   "file_extension": ".py",
   "mimetype": "text/x-python",
   "name": "python",
   "nbconvert_exporter": "python",
   "pygments_lexer": "ipython3",
   "version": "3.6.8"
  },
  "widgets": {
   "application/vnd.jupyter.widget-state+json": {
    "state": {},
    "version_major": 2,
    "version_minor": 0
   }
  }
 },
 "nbformat": 4,
 "nbformat_minor": 2
}
